{
 "metadata": {
  "language_info": {
   "codemirror_mode": {
    "name": "ipython",
    "version": 3
   },
   "file_extension": ".py",
   "mimetype": "text/x-python",
   "name": "python",
   "nbconvert_exporter": "python",
   "pygments_lexer": "ipython3",
   "version": "3.8.3-final"
  },
  "orig_nbformat": 2,
  "kernelspec": {
   "name": "python3",
   "display_name": "Python 3.8.3 32-bit",
   "metadata": {
    "interpreter": {
     "hash": "d1f6cae6e3d0a4014cadff94331d4302bf977cc3cd307ab5cfb1be81cf22412d"
    }
   }
  }
 },
 "nbformat": 4,
 "nbformat_minor": 2,
 "cells": [
  {
   "cell_type": "code",
   "execution_count": null,
   "metadata": {},
   "outputs": [],
   "source": [
    "# 2-1. Simple Message: Store a message in a variable, and then print that\n",
    "# message.\n",
    "# 2-2. Simple Messages: Store a message in a variable, and print that message.\n",
    "# Then change the value of your variable to a new message, and print the new\n",
    "# message."
   ]
  },
  {
   "cell_type": "code",
   "execution_count": null,
   "metadata": {},
   "outputs": [],
   "source": [
    "#2-1\n",
    "a=\"this is python\"\n",
    "print(a)\n",
    "a=\"this is python 3.0\"\n",
    "print(a)"
   ]
  },
  {
   "cell_type": "code",
   "execution_count": 9,
   "metadata": {},
   "outputs": [
    {
     "output_type": "stream",
     "name": "stdout",
     "text": [
      "NABEEL\nnabeel\nNabeel\nnabeel\nTrue\n1\nTrue\n['nabeel']\n"
     ]
    }
   ],
   "source": [
    "# code\n",
    "name=\"nabeel\"\n",
    "print(name.upper())\n",
    "print(name.lower())\n",
    "print(name.title())\n",
    "print(name.strip())\n",
    "print(name.endswith('l'))\n",
    "print(name.find(\"a\"))\n",
    "print(name.startswith('n'))\n",
    "print(name.split(','))"
   ]
  },
  {
   "cell_type": "code",
   "execution_count": null,
   "metadata": {},
   "outputs": [],
   "source": [
    "# 2-3. Personal Message: Store a person’s name in a variable, and print a message\n",
    "# to that person. Your message should be simple, such as, “Hello Eric,\n",
    "# would you like to learn some Python today?”\n",
    "# 2-4. Name Cases: Store a person’s name in a variable, and then print that person’s\n",
    "# name in lowercase, uppercase, and titlecase.\n",
    "# 2-5. Famous Quote: Find a quote from a famous person you admire. Print the\n",
    "# quote and the name of its author. Your output should look something like the\n",
    "# # following, including the quotation marks:\n",
    "# 2-7. Stripping Names: Store a person’s name, and include some whitespace\n",
    "# characters at the beginning and end of the name. Make sure you use each\n",
    "# character combination, \"\\t\" and \"\\n\", at least once.\n",
    "# Print the name once, so the whitespace around the name is displayed.\n",
    "# Then print the name using each of the three stripping functions, lstrip(),\n",
    "# rstrip(), and strip()."
   ]
  },
  {
   "cell_type": "code",
   "execution_count": 15,
   "metadata": {},
   "outputs": [
    {
     "output_type": "stream",
     "name": "stdout",
     "text": [
      "nabeel write this code\nNABEEL write this code\nnabeel write this code\nNabeel write this code\nnabeel says  \"Always Ecpect Unexpectd\" \nnabeel\n"
     ]
    }
   ],
   "source": [
    "#2-3\n",
    "name=\"nabeel\"\n",
    "print(name+\" \"+\"write this code\")\n",
    "#2-4\n",
    "print(name.upper()+\" \"+\"write this code\")\n",
    "print(name.lower()+\" \"+\"write this code\")\n",
    "print(name.title()+\" \"+\"write this code\")\n",
    "#2-5,2-6\n",
    "print(name+\" \"+\"says  \\\"Always Ecpect Unexpectd\\\" \")\n",
    "#2-7\n",
    "name=\" nabeel  \"\n",
    "print(name.strip())# reomve the extra spaces\n",
    "\n",
    "\n",
    "\n"
   ]
  },
  {
   "cell_type": "code",
   "execution_count": 16,
   "metadata": {},
   "outputs": [
    {
     "output_type": "stream",
     "name": "stdout",
     "text": [
      "8\n8\n8\n8\n8\n8.0\n"
     ]
    }
   ],
   "source": [
    "#2-8. Number Eight: Write addition, subtraction, multiplication, and division\n",
    "# operations that each result in the number 8. Be sure to enclose your operations\n",
    "# in print statements to see the results. You should create four lines that look\n",
    "# like this:\n",
    "print(2+6)\n",
    "print(10-2)\n",
    "print(4*2)\n",
    "print(2**3) #power\n",
    "print(16//2)\n",
    "print(16/2)"
   ]
  },
  {
   "cell_type": "code",
   "execution_count": 17,
   "metadata": {},
   "outputs": [
    {
     "output_type": "stream",
     "name": "stdout",
     "text": [
      "your age is 13\n"
     ]
    }
   ],
   "source": [
    "#2-9. Favorite Number: Store your favorite number in a variable. Then, using\n",
    "# that variable, create a message that reveals your favorite number. Print that\n",
    "# message.\n",
    "age=13\n",
    "print(\"your age is \"+str(age))"
   ]
  },
  {
   "cell_type": "code",
   "execution_count": null,
   "metadata": {},
   "outputs": [],
   "source": [
    "# chaper#03 list"
   ]
  },
  {
   "cell_type": "code",
   "execution_count": null,
   "metadata": {},
   "outputs": [],
   "source": [
    "# 3-1. Names: Store the names of a few of your friends in a list called names. Print\n",
    "# each person’s name by accessing each element in the list, one at a time.\n",
    "# 3-2. Greetings: Start with the list you used in Exercise 3-1, but instead of just\n",
    "# printing each person’s name, print a message to them. The text of each message\n",
    "# should be the same, but each message should be personalized with the\n",
    "# person’s name.\n",
    "# 3-3. Your Own List: Think of your favorite mode of transportation, such as a\n",
    "# motorcycle or a car, and make a list that stores several examples. Use your list\n",
    "# to print a series of statements about these items, such as “I would like to own a\n",
    "# Honda motorcycle.”"
   ]
  },
  {
   "cell_type": "code",
   "execution_count": 18,
   "metadata": {},
   "outputs": [
    {
     "output_type": "stream",
     "name": "stdout",
     "text": [
      "asad\nkhan\nkamran\nasadmy great friend\nkhanmy great friend\nkamranmy great friend\nmy most fvt car color is grey\n"
     ]
    }
   ],
   "source": [
    "#3-1\n",
    "my_friend_list=[\"asad\",\"khan\",\"kamran\"]\n",
    "print(my_friend_list[0])\n",
    "print(my_friend_list[1])\n",
    "print(my_friend_list[2])\n",
    "#3-2\n",
    "print(my_friend_list[0]+\"my great friend\")\n",
    "print(my_friend_list[1]+\"my great friend\")\n",
    "print(my_friend_list[2]+\"my great friend\")\n",
    "#3-3\n",
    "fvt_car_color=[\"black\",\"grey\",'white']\n",
    "print(\"my most fvt car color is \"+fvt_car_color[1])\n"
   ]
  },
  {
   "cell_type": "code",
   "execution_count": null,
   "metadata": {},
   "outputs": [],
   "source": [
    "# list funtions\n",
    "# 3-4. Guest List: If you could invite anyone, living or deceased, to dinner, who\n",
    "# would you invite? Make a list that includes at least three people you’d like to\n",
    "# invite to dinner. Then use your list to print a message to each person, inviting\n",
    "# them to dinner.\n",
    "# 3-5. Changing Guest List: You just heard that one of your guests can’t make the\n",
    "# dinner, so you need to send out a new set of invitations. You’ll have to think of\n",
    "# someone else to invite.\n",
    "# • Start with your program from Exercise 3-4. Add a print statement at the\n",
    "# end of your program stating the name of the guest who can’t make it.\n",
    "# • Modify your list, replacing the name of the guest who can’t make it with\n",
    "# the name of the new person you are inviting.\n",
    "# • Print a second set of invitation messages, one for each person who is still\n",
    "# in your list.\n",
    "3-6. More Guests: You just found a bigger dinner table, so now more space is\n",
    "available. Think of three more guests to invite to dinner.\n",
    "• Start with your program from Exercise 3-4 or Exercise 3-5. Add a print\n",
    "statement to the end of your program informing people that you found a\n",
    "bigger dinner table.\n",
    "• Use insert() to add one new guest to the beginning of your list.\n",
    "• Use insert() to add one new guest to the middle of your list.\n",
    "• Use append() to add one new guest to the end of your list.\n",
    "• Print a new set of invitation messages, one for each person in your list."
   ]
  },
  {
   "cell_type": "code",
   "execution_count": 41,
   "metadata": {},
   "outputs": [
    {
     "output_type": "stream",
     "name": "stdout",
     "text": [
      "aliyou are invided\nbabaryou are invided\nkhanyou are invided\nkhani am not avialabe sorry\naliyou are invided\namiryou are invided\nkhanyou are invided\nsameeryou are invided\naliyou are invided\nsadyou are invided\namiryou are invided\nkhanyou are invided\nkabeeryou are invided\n"
     ]
    }
   ],
   "source": [
    "#3-4\n",
    "invited_persons=[\"ali\",\"babar\",\"khan\"]\n",
    "print(invited_persons[0]+\"you are invided\")\n",
    "print(invited_persons[1]+\"you are invided\")\n",
    "print(invited_persons[2]+\"you are invided\")\n",
    "#3-5\n",
    "print(invited_persons[2]+\"i am not avialabe sorry\")\n",
    "invited_persons[1]=\"amir\"\n",
    "print(invited_persons[0]+\"you are invided\")\n",
    "print(invited_persons[1]+\"you are invided\")\n",
    "print(invited_persons[2]+\"you are invided\")\n",
    "#3-6\n",
    "invited_persons.insert(0,\"sameer\")\n",
    "invited_persons.insert(2,\"sad\")\n",
    "invited_persons.append(\"kabeer\")\n",
    "print(invited_persons[0]+\"you are invided\")\n",
    "print(invited_persons[1]+\"you are invided\")\n",
    "print(invited_persons[2]+\"you are invided\")\n",
    "print(invited_persons[3]+\"you are invided\")\n",
    "print(invited_persons[4]+\"you are invided\")\n",
    "print(invited_persons[5]+\"you are invided\")\n",
    "\n",
    "\n"
   ]
  },
  {
   "cell_type": "code",
   "execution_count": null,
   "metadata": {},
   "outputs": [],
   "source": [
    "# 3-7. Shrinking Guest List: You just found out that your new dinner table won’t\n",
    "# arrive in time for the dinner, and you have space for only two guests.\n",
    "# • Start with your program from Exercise 3-6. Add a new line that prints a\n",
    "# message saying that you can invite only two people for dinner.\n",
    "# • Use pop() to remove guests from your list one at a time until only two\n",
    "# names remain in your list. Each time you pop a name from your list, print\n",
    "# a message to that person letting them know you’re sorry you can’t invite\n",
    "# them to dinner.\n",
    "# • Print a message to each of the two people still on your list, letting them\n",
    "# know they’re still invited.\n",
    "# • Use del to remove the last two names from your list, so you have an empty\n",
    "# list. Print your list to make sure you actually have an empty list at the end\n",
    "# of your program."
   ]
  },
  {
   "cell_type": "code",
   "execution_count": 42,
   "metadata": {},
   "outputs": [
    {
     "output_type": "stream",
     "name": "stdout",
     "text": [
      "you can invite only 2 person your current list is\n['sameer', 'ali', 'sad', 'amir', 'khan', 'kabeer']\nkabeer sorry you can’t invite them to dinner\nkhan sorry you can’t invite them to dinner\namir sorry you can’t invite them to dinner\nsad sorry you can’t invite them to dinner\nsameer you are still invided\nali you are still invited\n[]\n"
     ]
    }
   ],
   "source": [
    "#3-7\n",
    "print(\"you can invite only 2 person your current list is\")\n",
    "print(invited_persons)\n",
    "print(invited_persons.pop()+\" sorry you can’t invite them to dinner\")\n",
    "print(invited_persons.pop()+\" sorry you can’t invite them to dinner\")\n",
    "print(invited_persons.pop()+\" sorry you can’t invite them to dinner\")\n",
    "print(invited_persons.pop()+\" sorry you can’t invite them to dinner\")\n",
    "print(invited_persons[0]+\" you are still invided\")\n",
    "print(invited_persons[1]+\" you are still invited\")\n",
    "del invited_persons[1]\n",
    "del invited_persons[0]\n",
    "print(invited_persons)"
   ]
  },
  {
   "cell_type": "code",
   "execution_count": null,
   "metadata": {},
   "outputs": [],
   "source": [
    "# 3-8. Seeing the World: Think of at least five places in the world you’d like to\n",
    "# visit.\n",
    "# • Store the locations in a list. Make sure the list is not in alphabetical order.\n",
    "# • Print your list in its original order. Don’t worry about printing the list neatly,\n",
    "# just print it as a raw Python list.\n",
    "# • Use sorted() to print your list in alphabetical order without modifying the\n",
    "# actual list.\n",
    "# • Show that your list is still in its original order by printing it.\n",
    "# • Use sorted() to print your list in reverse alphabetical order without changing\n",
    "# the order of the original list.\n",
    "# • Show that your list is still in its original order by printing it again.\n",
    "# • Use reverse() to change the order of your list. Print the list to show that its\n",
    "# order has changed.\n",
    "# • Use reverse() to change the order of your list again. Print the list to show\n",
    "# it’s back to its original order.\n",
    "• Use sort() to change your list so it’s stored in alphabetical order. Print the\n",
    "list to show that its order has been changed.\n",
    "• Use sort() to change your list so it’s stored in reverse alphabetical order.\n",
    "Print the list to show that its order has changed."
   ]
  },
  {
   "cell_type": "code",
   "execution_count": 45,
   "metadata": {},
   "outputs": [
    {
     "output_type": "stream",
     "name": "stdout",
     "text": [
      "['Pakistan', 'China', 'UAE', 'US', 'Africa']\n['Pakistan', 'China', 'UAE', 'US', 'Africa']\n['Pakistan', 'China', 'UAE', 'US', 'Africa']\n['Africa', 'China', 'Pakistan', 'UAE', 'US']\n"
     ]
    }
   ],
   "source": [
    "#3-8\n",
    "my_places=[\"Pakistan\",\"China\",\"UAE\",\"US\",\"Africa\"]\n",
    "print(my_places)\n",
    "\n",
    "sorted(my_places)\n",
    "print(my_places)\n",
    "\n",
    "sorted(my_places,reverse=True)\n",
    "print(my_places)\n",
    "\n",
    "my_places.sort()\n",
    "print(my_places)"
   ]
  },
  {
   "cell_type": "code",
   "execution_count": 46,
   "metadata": {},
   "outputs": [
    {
     "output_type": "stream",
     "name": "stdout",
     "text": [
      "Total place is 5\n"
     ]
    }
   ],
   "source": [
    "# 3-9. Dinner Guests: Working with one of the programs from Exercises 3-4\n",
    "# through 3-7 (page 46), use len() to print a message indicating the number\n",
    "# of people you are inviting to dinner.\n",
    "\n",
    "print(\"Total place is \"+ str(len(my_places)))"
   ]
  },
  {
   "cell_type": "code",
   "execution_count": 48,
   "metadata": {},
   "outputs": [
    {
     "output_type": "stream",
     "name": "stdout",
     "text": [
      "Black\nGrey\nRed\nSkyBlue\n"
     ]
    }
   ],
   "source": [
    "# chapter #04 working with list\n",
    "my_fvt_color=[\"Black\",\"Grey\",\"Red\",\"SkyBlue\"]\n",
    "for color in my_fvt_color:\n",
    "    print(color)"
   ]
  },
  {
   "cell_type": "code",
   "execution_count": null,
   "metadata": {},
   "outputs": [],
   "source": [
    "# 4-1. Pizzas: Think of at least three kinds of your favorite pizza. Store these\n",
    "# pizza names in a list, and then use a for loop to print the name of each pizza.\n",
    "# • Modify your for loop to print a sentence using the name of the pizza\n",
    "# instead of printing just the name of the pizza. For each pizza you should\n",
    "# have one line of output containing a simple statement like I like pepperoni\n",
    "# pizza.\n",
    "# • Add a line at the end of your program, outside the for loop, that states\n",
    "# how much you like pizza. The output should consist of three or more lines\n",
    "# about the kinds of pizza you like and then an additional sentence, such as\n",
    "# I really love pizza!\n",
    "# 4-2. Animals: Think of at least three different animals that have a common characteristic.\n",
    "# Store the names of these animals in a list, and then use a for loop to\n",
    "# print out the name of each animal.\n",
    "# • Modify your program to print a statement about each animal, such as\n",
    "# A dog would make a great pet.\n",
    "# • Add a line at the end of your program stating what these animals have in\n",
    "# common. You could"
   ]
  },
  {
   "cell_type": "code",
   "execution_count": 52,
   "metadata": {},
   "outputs": [
    {
     "output_type": "stream",
     "name": "stdout",
     "text": [
      "BBQ\nFagita\nMaliboti\nBBQ is my fvt pizza\nFagita is my fvt pizza\nMaliboti is my fvt pizza\nI realy love pizza\n"
     ]
    }
   ],
   "source": [
    "#4-1\n",
    "my_fvt_pizza=[\"BBQ\",\"Fagita\",\"Maliboti\"]\n",
    "for pizza in my_fvt_pizza:\n",
    "    print(pizza)\n",
    "for pizza in my_fvt_pizza:\n",
    "    print(pizza+\" is my fvt pizza\") \n",
    "print(\"I realy love pizza\")       "
   ]
  },
  {
   "cell_type": "code",
   "execution_count": null,
   "metadata": {},
   "outputs": [],
   "source": [
    "#4-2\n",
    "my_fvt_animal=[\"Dog\",\"Cat\",\"Cow\"]\n",
    "for animal in my_fvt_animal:\n",
    "    print(animal)\n",
    "for animal in my_fvt_animal:\n",
    "    print(animal+\" is my fvt animal\")\n",
    "print(\"All of there are my fvt aminal\")        "
   ]
  },
  {
   "cell_type": "code",
   "execution_count": 53,
   "metadata": {},
   "outputs": [
    {
     "output_type": "stream",
     "name": "stdout",
     "text": [
      "1\n2\n3\n4\n5\n6\n7\n8\n9\n10\n11\n12\n13\n14\n15\n16\n17\n18\n19\n20\n"
     ]
    }
   ],
   "source": [
    "# 4-3. Counting to Twenty: Use a for loop to print the numbers from 1 to 20,\n",
    "# inclusive.\n",
    "for number in range(1,21):\n",
    "    print(number)\n"
   ]
  },
  {
   "cell_type": "code",
   "execution_count": null,
   "metadata": {},
   "outputs": [],
   "source": [
    "# 4-4. One Million: Make a list of the numbers from one to one million, and then\n",
    "# use a for loop to print the numbers. (If the output is taking too long, stop it by\n",
    "# pressing ctrl-C or by closing the output window.)\n",
    "# 4-5. Summing a Million: Make a list of the numbers from one to one million,\n",
    "# and then use min() and max() to make sure your list actually starts at one and\n",
    "# ends at one million. Also, use the sum() function to see how quickly Python can\n",
    "# add a million numbers.\n"
   ]
  },
  {
   "cell_type": "code",
   "execution_count": 56,
   "metadata": {},
   "outputs": [
    {
     "output_type": "stream",
     "name": "stdout",
     "text": [
      "1\n20\n210\n"
     ]
    }
   ],
   "source": [
    "#4-4\n",
    "number_list=[]\n",
    "for number in range(1,21):\n",
    "    number_list.append(number)\n",
    "print(min(number_list))\n",
    "print(max(number_list))\n",
    "print(sum(number_list))    "
   ]
  },
  {
   "cell_type": "code",
   "execution_count": 60,
   "metadata": {},
   "outputs": [
    {
     "output_type": "stream",
     "name": "stdout",
     "text": [
      "0\n2\n4\n6\n8\n10\n12\n14\n16\n18\n20\n1\n3\n5\n7\n9\n11\n13\n15\n17\n19\n"
     ]
    }
   ],
   "source": [
    "# 4-6. Odd Numbers: Use the third argument of the range() function to make a list\n",
    "# of the odd numbers from 1 to 20. Use a for loop to print each number.\n",
    "for odd in range(0,21,2):\n",
    "    print(odd)\n",
    "for even in range(1,21,2):\n",
    "    print(even)    "
   ]
  },
  {
   "cell_type": "code",
   "execution_count": 66,
   "metadata": {},
   "outputs": [
    {
     "output_type": "stream",
     "name": "stdout",
     "text": [
      "3\n6\n9\n12\n15\n18\n21\n24\n27\n30\n1\n8\n27\n64\n125\n216\n343\n512\n729\n1000\n"
     ]
    }
   ],
   "source": [
    "# 4-7. Threes: Make a list of the multiples of 3 from 3 to 30. Use a for loop to\n",
    "# print the numbers in your list.\n",
    "for num in range(1,11):\n",
    "    print(3*num)\n",
    "for cube in range(1,11):\n",
    "    print(cube**3)\n",
    "      "
   ]
  },
  {
   "cell_type": "code",
   "execution_count": null,
   "metadata": {},
   "outputs": [],
   "source": [
    "# 4-9. Cube Comprehension: Use a list comprehension to generate a list of the\n",
    "# first 10 cubes.\n",
    "print([cube**3 for cube in range(1,11)])  "
   ]
  },
  {
   "cell_type": "code",
   "execution_count": null,
   "metadata": {},
   "outputs": [],
   "source": [
    "# 4-10. Slices: Using one of the programs you wrote in this chapter, add several\n",
    "# lines to the end of the program that do the following:\n",
    "# • Print the message, The first three items in the list are:. Then use a slice to\n",
    "# print the first three items from that program’s list.\n",
    "# • Print the message, Three items from the middle of the list are:. Use a slice\n",
    "# to print three items from the middle of the list.\n",
    "# • Print the message, The last three items in the list are:. Use a slice to print\n",
    "# the last three items in the list."
   ]
  },
  {
   "cell_type": "code",
   "execution_count": 85,
   "metadata": {},
   "outputs": [
    {
     "output_type": "stream",
     "name": "stdout",
     "text": [
      "my list [1, 2, 3, 4, 5, 6, 7]\nThe first three items in the list are\n[1, 2, 3]\nThree items from the middle of the list are\n[3, 4, 5]\nThe last three items in the list are\n[5, 6, 7]\n"
     ]
    }
   ],
   "source": [
    "my_number=[1,2,3,4,5,6,7]\n",
    "print(\"my list \"+ str(my_number))\n",
    "print(\"The first three items in the list are\")\n",
    "print(my_number[:3])\n",
    "print(\"Three items from the middle of the list are\")\n",
    "print(my_number[2:5])\n",
    "print(\"The last three items in the list are\")\n",
    "print(my_number[4:7])"
   ]
  },
  {
   "cell_type": "code",
   "execution_count": null,
   "metadata": {},
   "outputs": [],
   "source": [
    "# 4-11. My Pizzas, Your Pizzas: Start with your program from Exercise 4-1\n",
    "# (page 60). Make a copy of the list of pizzas, and call it friend_pizzas.\n",
    "# Then, do the following:\n",
    "# • Add a new pizza to the original list.\n",
    "# • Add a different pizza to the list friend_pizzas.\n",
    "# • Prove that you have two separate lists. Print the message, My favorite\n",
    "# pizzas are:, and then use a for loop to print the first list. Print the message,\n",
    "# My friend’s favorite pizzas are:, and then use a for loop to print the second\n",
    "# list. Make sure each new pizza is stored in the appropriate list."
   ]
  },
  {
   "cell_type": "code",
   "execution_count": 91,
   "metadata": {},
   "outputs": [
    {
     "output_type": "stream",
     "name": "stdout",
     "text": [
      "My Fvt pizza list\nBBQ\nFagita\nMaliboti\nRedHot\nMy friend pizza list\nChezPizaa\nOlivePizza\nSpicyPizza\nBBQ\nComparing fvt pizza between me and my friend\nBBQ\n"
     ]
    }
   ],
   "source": [
    "#4-11\n",
    "my_fvt_pizza=[\"BBQ\",\"Fagita\",\"Maliboti\"]\n",
    "my_friend_fvt_pizza=[\"ChezPizaa\",\"OlivePizza\",\"SpicyPizza\"]\n",
    "my_fvt_pizza.append(\"RedHot\")\n",
    "print(\"My Fvt pizza list\")\n",
    "for pizza in my_fvt_pizza:\n",
    "    print(pizza)\n",
    "my_friend_fvt_pizza.append(\"BBQ\")    \n",
    "print(\"My friend pizza list\")\n",
    "for pizza in my_friend_fvt_pizza:\n",
    "    print(pizza)\n",
    "# same fvt pizza between me and my friend\n",
    "print(\"Comparing fvt pizza between me and my friend\")\n",
    "for same_pizza in my_fvt_pizza:\n",
    "    if same_pizza in my_friend_fvt_pizza:\n",
    "        print(same_pizza)   "
   ]
  },
  {
   "cell_type": "code",
   "execution_count": null,
   "metadata": {},
   "outputs": [],
   "source": [
    "# toupel"
   ]
  },
  {
   "cell_type": "code",
   "execution_count": null,
   "metadata": {},
   "outputs": [],
   "source": [
    "# 4-13. Buffet: A buffet-style restaurant offers only five basic foods. Think of five\n",
    "# simple foods, and store them in a tuple.\n",
    "# • Use a for loop to print each food the restaurant offers.\n",
    "# • Try to modify one of the items, and make sure that Python rejects the\n",
    "# change."
   ]
  },
  {
   "cell_type": "code",
   "execution_count": 93,
   "metadata": {},
   "outputs": [
    {
     "output_type": "stream",
     "name": "stdout",
     "text": [
      "manue is........ BBQ\nmanue is........ Biryani\nmanue is........ ZingerBurger\nAfter update new manu is\nmanue is........ FriedRice\nmanue is........ Soop\nmanue is........ Haleem\n"
     ]
    }
   ],
   "source": [
    "#4-13\n",
    "resturent_manu=(\"BBQ\",\"Biryani\",\"ZingerBurger\")\n",
    "for item in resturent_manu:\n",
    "    print(\"manue is........ \"+ item)\n",
    "print(\"After update new manu is\")    \n",
    "resturent_manu=(\"FriedRice\",\"Soop\",\"Haleem\")\n",
    "for item in resturent_manu:\n",
    "    print(\"manue is........ \"+ item)\n",
    "    "
   ]
  },
  {
   "cell_type": "code",
   "execution_count": null,
   "metadata": {},
   "outputs": [],
   "source": [
    "# chapter 5\n",
    "# if else stamement\n"
   ]
  },
  {
   "cell_type": "code",
   "execution_count": 94,
   "metadata": {},
   "outputs": [
    {
     "output_type": "stream",
     "name": "stdout",
     "text": [
      "Is car == 'subaru'? I predict True.\nTrue\n\nIs car == 'audi'? I predict False.\nFalse\n"
     ]
    }
   ],
   "source": [
    "# 5-1. Conditional Tests: Write a series of conditional tests. Print a statement\n",
    "# describing each test and your prediction for the results of each test. Your code\n",
    "# should look something like this:\n",
    "car = 'subaru'\n",
    "print(\"Is car == 'subaru'? I predict True.\")\n",
    "print(car == 'subaru')\n",
    "print(\"\\nIs car == 'audi'? I predict False.\")\n",
    "print(car == 'audi')"
   ]
  },
  {
   "cell_type": "code",
   "execution_count": null,
   "metadata": {},
   "outputs": [],
   "source": [
    "# 5-2. More Conditional Tests: You don’t have to limit the number of tests you\n",
    "# create to 10. If you want to try more comparisons, write more tests and add\n",
    "# them to conditional_tests.py. Have at least one True and one False result for\n",
    "# each of the following:\n",
    "# • Tests for equality and inequality with strings\n",
    "# • Tests using the lower() function\n",
    "# • Numerical tests involving equality and inequality, greater than and\n",
    "# less than, greater than or equal to, and less than or equal to\n",
    "# • Tests using the and keyword and the or keyword\n",
    "# • Test whether an item is in a list\n",
    "# • Test whether an item is not in a list"
   ]
  },
  {
   "cell_type": "code",
   "execution_count": 101,
   "metadata": {},
   "outputs": [
    {
     "output_type": "stream",
     "name": "stdout",
     "text": [
      "number is less then 100\nFalse\nTrue\nTrue\nFalse\nNumber Found\nNumber Not Found\n"
     ]
    }
   ],
   "source": [
    "#5-2\n",
    "number=99\n",
    "if number>100:\n",
    "    print(\"number is greater then 100\")\n",
    "elif(number<100):\n",
    "    print(\"number is less then 100\")\n",
    "else:\n",
    "    print(\"number is equal to 1000\")\n",
    "\n",
    "print(\"a\">\"b\")\n",
    "print(\"a\"<\"b\")\n",
    "print(\"a\"==\"a\")\n",
    "print(\"a\"==\"b\".upper())\n",
    "num=99\n",
    "if num in [12,20,99]:\n",
    "    print(\"Number Found\")\n",
    "if num not in [12,20,999]:\n",
    "    print(\"Number Not Found\")   "
   ]
  },
  {
   "cell_type": "code",
   "execution_count": null,
   "metadata": {},
   "outputs": [],
   "source": [
    "# 5-3. Alien Colors #1: Imagine an alien was just shot down in a game. Create a\n",
    "# variable called alien_color and assign it a value of 'green', 'yellow', or 'red'.\n",
    "# • Write an if statement to test whether the alien’s color is green. If it is, print\n",
    "# a message that the player just earned 5 points.\n",
    "# • Write one version of this program that passes the if test and another that\n",
    "# fails. (The version that fails will have no output.)"
   ]
  },
  {
   "cell_type": "code",
   "execution_count": 103,
   "metadata": {},
   "outputs": [
    {
     "output_type": "stream",
     "name": "stdout",
     "text": [
      "player got 5 points\n"
     ]
    }
   ],
   "source": [
    "#5-3\n",
    "alien_color=[\"green\",\"yellow\",\"red\"]\n",
    "\n",
    "if \"green\" in alien_color:\n",
    "    print(\"player got 5 points\") \n",
    "else:\n",
    "    print(\"player got 0 point\")    "
   ]
  },
  {
   "cell_type": "code",
   "execution_count": null,
   "metadata": {},
   "outputs": [],
   "source": [
    "# 5-4. Alien Colors #2: Choose a color for an alien as you did in Exercise 5-3, and\n",
    "# write an if-else chain.\n",
    "# • If the alien’s color is green, print a statement that the player just earned\n",
    "# 5 points for shooting the alien.\n",
    "# • If the alien’s color isn’t green, print a statement that the player just earned\n",
    "# 10 points.\n",
    "# • Write one version of this program that runs the if block and another that\n",
    "# runs the else block."
   ]
  },
  {
   "cell_type": "code",
   "execution_count": 104,
   "metadata": {},
   "outputs": [
    {
     "output_type": "stream",
     "name": "stdout",
     "text": [
      "player got 5 points\n"
     ]
    }
   ],
   "source": [
    "#5-4\n",
    "alien_color=[\"green\",\"yellow\",\"red\"]\n",
    "\n",
    "if \"green\" in alien_color:\n",
    "    print(\"player got 5 points\") \n",
    "else:\n",
    "    print(\"player got 10 point\") "
   ]
  },
  {
   "cell_type": "code",
   "execution_count": null,
   "metadata": {},
   "outputs": [],
   "source": [
    "# 5-5. Alien Colors #3: Turn your if-else chain from Exercise 5-4 into an if-elifelse\n",
    "# chain.\n",
    "# • If the alien is green, print a message that the player earned 5 points.\n",
    "# • If the alien is yellow, print a message that the player earned 10 points.\n",
    "# • If the alien is red, print a message that the player earned 15 points.\n",
    "# • Write three versions of this program, making sure each message is printed\n",
    "# for the appropriate color alien."
   ]
  },
  {
   "cell_type": "code",
   "execution_count": 108,
   "metadata": {},
   "outputs": [
    {
     "output_type": "stream",
     "name": "stdout",
     "text": [
      "player got 15 point\n"
     ]
    }
   ],
   "source": [
    "\n",
    "#5-5\n",
    "color=\"red\"\n",
    "if color==\"green\" :\n",
    "    print(\"player got 5 points\") \n",
    "elif (color==\"yellow\"):\n",
    "    print(\"player got 10 point\")\n",
    "elif (color=='red'):\n",
    "    print(\"player got 15 point\")\n",
    "else:\n",
    "    print(\"player got 0 point\")        "
   ]
  },
  {
   "cell_type": "code",
   "execution_count": null,
   "metadata": {},
   "outputs": [],
   "source": [
    "# 5-6. Stages of Life: Write an if-elif-else chain that determines a person’s\n",
    "# stage of life. Set a value for the variable age, and then:\n",
    "# • If the person is less than 2 years old, print a message that the person is\n",
    "# a baby.\n",
    "# • If the person is at least 2 years old but less than 4, print a message that\n",
    "# the person is a toddler.\n",
    "# • If the person is at least 4 years old but less than 13, print a message that\n",
    "# the person is a kid.\n",
    "# • If the person is at least 13 years old but less than 20, print a message that\n",
    "# the person is a teenager.\n",
    "# • If the person is at least 20 years old but less than 65, print a message that\n",
    "# the person is an adult.\n",
    "# • If the person is age 65 or older, print a message that the person is an\n",
    "# elder."
   ]
  },
  {
   "cell_type": "code",
   "execution_count": 114,
   "metadata": {},
   "outputs": [
    {
     "output_type": "stream",
     "name": "stdout",
     "text": [
      "the person is a kid.\n"
     ]
    }
   ],
   "source": [
    "age=10\n",
    "if age<2:\n",
    "    print(\"the person is a baby\")\n",
    "elif age >= 2 and age<=4:\n",
    "    print(\"the person is a toddler.\")   \n",
    "elif age>=4 and age<=13:\n",
    "    print(\"the person is a kid.\")  \n",
    "elif age>=13 and age<=20:\n",
    "    print(\"the person is a teenager.\")\n",
    "elif age>=20 and age<=65:\n",
    "    print(\"the person is an adult.\")\n",
    "else:\n",
    "    print(\"the person is an elder\")              \n"
   ]
  },
  {
   "cell_type": "code",
   "execution_count": null,
   "metadata": {},
   "outputs": [],
   "source": [
    "# 5-7. Favorite Fruit: Make a list of your favorite fruits, and then write a series of\n",
    "# independent if statements that check for certain fruits in your list.\n",
    "# • Make a list of your three favorite fruits and call it favorite_fruits.\n",
    "# • Write five if statements. Each should check whether a certain kind of fruit\n",
    "# is in your list. If the fruit is in your list, the if block should print a statement,\n",
    "# such as You really like bananas!"
   ]
  },
  {
   "cell_type": "code",
   "execution_count": 118,
   "metadata": {},
   "outputs": [
    {
     "output_type": "stream",
     "name": "stdout",
     "text": [
      "apple in my list\nmango in my list\n"
     ]
    }
   ],
   "source": [
    "#5-7\n",
    "fruite_list=[\"apple\",\"mango\",\"orange\",\"banan\"]\n",
    "if \"banana\" in fruite_list:\n",
    "    print(\"banana in my list\")\n",
    "if \"graps\" in fruite_list:\n",
    "    print(\"graps in my list\") \n",
    "if \"apple\" in fruite_list:\n",
    "    print(\"apple in my list\")\n",
    "if \"mango\" in fruite_list:\n",
    "    print(\"mango in my list\") \n",
    "if \"redgraps\" in fruite_list:\n",
    "    print(\"redgraps in my list\")            "
   ]
  },
  {
   "cell_type": "code",
   "execution_count": null,
   "metadata": {},
   "outputs": [],
   "source": [
    "# 5-8. Hello Admin: Make a list of five or more usernames, including the name\n",
    "# 'admin'. Imagine you are writing code that will print a greeting to each user\n",
    "# after they log in to a website. Loop through the list, and print a greeting to\n",
    "# each user:\n",
    "# • If the username is 'admin', print a special greeting, such as Hello admin,\n",
    "# would you like to see a status report?\n",
    "# • Otherwise, print a generic greeting, such as Hello Eric, thank you for logging\n",
    "# in again."
   ]
  },
  {
   "cell_type": "code",
   "execution_count": 119,
   "metadata": {},
   "outputs": [
    {
     "output_type": "stream",
     "name": "stdout",
     "text": [
      "Hi amir thanks for login\nHELLOW---Admin\nHi ali thanks for login\nHi khan thanks for login\nHELLOW---Admin\n"
     ]
    }
   ],
   "source": [
    "#5-8\n",
    "user_logs=[\"amir\",\"admin\",\"ali\",\"khan\",\"admin\"]\n",
    "for user in user_logs:\n",
    "    if user==\"admin\":\n",
    "        print(\"HELLOW---Admin\")\n",
    "    else:\n",
    "        print(f\"Hi {user} thanks for login\")   "
   ]
  },
  {
   "cell_type": "code",
   "execution_count": null,
   "metadata": {},
   "outputs": [],
   "source": [
    "# 5-9. No Users: Add an if test to hello_admin.py to make sure the list of users is\n",
    "# not empty.\n",
    "# • If the list is empty, print the message We need to find some users!\n",
    "# • Remove all of the usernames from your list, and make sure the correct\n",
    "# message is printed."
   ]
  },
  {
   "cell_type": "code",
   "execution_count": 120,
   "metadata": {},
   "outputs": [
    {
     "output_type": "stream",
     "name": "stdout",
     "text": [
      "we need to add some user logs\n"
     ]
    }
   ],
   "source": [
    "user_logs=[]\n",
    "if len(user_logs):\n",
    "    for user in user_logs:\n",
    "        if user==\"admin\":\n",
    "            print(\"HELLOW---Admin\")\n",
    "        else:\n",
    "            print(f\"Hi {user} thanks for login\")\n",
    "else:\n",
    "    print(\"we need to add some user logs\")            "
   ]
  },
  {
   "cell_type": "code",
   "execution_count": null,
   "metadata": {},
   "outputs": [],
   "source": [
    "# 5-10. Checking Usernames: Do the following to create a program that simulates\n",
    "# how websites ensure that everyone has a unique username.\n",
    "# • Make a list of five or more usernames called current_users.\n",
    "# • Make another list of five usernames called new_users. Make sure one or\n",
    "# two of the new usernames are also in the current_users list.\n",
    "# • Loop through the new_users list to see if each new username has already\n",
    "# been used. If it has, print a message that the person will need to enter a\n",
    "# new username. If a username has not been used, print a message saying\n",
    "# that the username is available.\n",
    "# • Make sure your comparison is case insensitive. If 'John' has been used,\n",
    "# 'JOHN' should not be accepted."
   ]
  },
  {
   "cell_type": "code",
   "execution_count": 121,
   "metadata": {},
   "outputs": [
    {
     "output_type": "stream",
     "name": "stdout",
     "text": [
      "this name already use change your name\nthis name already use change your name\nthis is new user\nthis name already use change your name\nthis is new user\n"
     ]
    }
   ],
   "source": [
    "#5-10\n",
    "current_user=[\"nabeel\",\"amir\",\"owasi\",\"anas\",\"ali\"]\n",
    "new_user=[\"hassan\",\"qasim\",\"amir\",\"anas\",\"nabeel\"]\n",
    "for user in current_user:\n",
    "    if user in new_user:\n",
    "        print(\"this name already use change your name\")\n",
    "    else:\n",
    "        print(\"this is new user\")   "
   ]
  },
  {
   "cell_type": "code",
   "execution_count": null,
   "metadata": {},
   "outputs": [],
   "source": [
    "# 5-11. Ordinal Numbers: Ordinal numbers indicate their position in a list, such\n",
    "# as 1st or 2nd. Most ordinal numbers end in th, except 1, 2, and 3.\n",
    "# • Store the numbers 1 through 9 in a list.\n",
    "# • Loop through the list.\n",
    "# • Use an if-elif-else chain inside the loop to print the proper ordinal ending\n",
    "# for each number. Your output should read \"1st 2nd 3rd 4th 5th 6th\n",
    "# 7th 8th 9th\", and each result should be on a separate line."
   ]
  },
  {
   "cell_type": "code",
   "execution_count": 123,
   "metadata": {},
   "outputs": [
    {
     "output_type": "stream",
     "name": "stdout",
     "text": [
      "1st\n2nd\n3rd\n4th\n5th\n6th\n7th\n8th\n9th\n"
     ]
    }
   ],
   "source": [
    "number_list=[x for x in range(1,10)]\n",
    "for number in number_list:\n",
    "    if number==1:\n",
    "        print(str(number)+\"st\")\n",
    "    elif number==2:\n",
    "        print(str(number)+\"nd\")\n",
    "    elif number==3:\n",
    "        print(str(number)+\"rd\")\n",
    "    else:\n",
    "        print(str(number)+\"th\")            "
   ]
  },
  {
   "cell_type": "code",
   "execution_count": null,
   "metadata": {},
   "outputs": [],
   "source": [
    "# chapeter=06\n",
    "# Dictionary\n",
    "# its a combination of key value pare abd similer as object"
   ]
  },
  {
   "cell_type": "code",
   "execution_count": 7,
   "metadata": {},
   "outputs": [
    {
     "output_type": "stream",
     "name": "stdout",
     "text": [
      "value\n{'key': 5}\n5\n{'key': 5, 'key2': 'value2'}\n{'key': 5}\n"
     ]
    }
   ],
   "source": [
    "dic={\"key\":'value'}\n",
    "print(dic['key'])\n",
    "dic['key']=5\n",
    "print(dic)\n",
    "print(dic[\"key\"])\n",
    "dic[\"key2\"]=\"value2\"\n",
    "print(dic)\n",
    "del dic['key2']\n",
    "print(dic)"
   ]
  },
  {
   "cell_type": "code",
   "execution_count": 11,
   "metadata": {},
   "outputs": [
    {
     "output_type": "stream",
     "name": "stdout",
     "text": [
      "Hi i am Nabeel Anwar my age is 22 and my current city is Karachi\n"
     ]
    }
   ],
   "source": [
    "# 6-1. Person: Use a dictionary to store information about a person you know.\n",
    "# Store their first name, last name, age, and the city in which they live. You\n",
    "# should have keys such as first_name, last_name, age, and city. Print each\n",
    "# piece of information stored in your dictionary.\n",
    "person_dic={\"FirstName\":\"Nabeel\",\"LastName\":\"Anwar\",\"Age\":22,\"City\":\"Karachi\"}\n",
    "fullname=person_dic[\"FirstName\"]+\" \"+person_dic[\"LastName\"]\n",
    "print(f\"Hi i am {fullname} my age is {person_dic['Age']} and my current city is {person_dic['City']}\" )"
   ]
  },
  {
   "cell_type": "code",
   "execution_count": 12,
   "metadata": {},
   "outputs": [
    {
     "output_type": "stream",
     "name": "stdout",
     "text": [
      "Friend name is Ali and there lucky number is 7\nFriend name is Amir and there lucky number is 10\nFriend name is Nabeel and there lucky number is 2\nFriend name is Anus and there lucky number is 7\nFriend name is Kabeel and there lucky number is 9\n"
     ]
    }
   ],
   "source": [
    "# 6-2. Favorite Numbers: Use a dictionary to store people’s favorite numbers.\n",
    "# Think of five names, and use them as keys in your dictionary. Think of a favorite\n",
    "# number for each person, and store each as a value in your dictionary. Print\n",
    "# each person’s name and their favorite number. For even more fun, poll a few\n",
    "# friends and get some actual data for your program.\n",
    "Favourite_Number={\"Ali\":7,\"Amir\":10,\"Nabeel\":2,\"Anus\":7,\"Kabeel\":9}\n",
    "for key,value in Favourite_Number.items():\n",
    "    print(f\"Friend name is {key} and there lucky number is {value}\")"
   ]
  },
  {
   "cell_type": "code",
   "execution_count": null,
   "metadata": {},
   "outputs": [],
   "source": [
    "# 6-3. Glossary: A Python dictionary can be used to model an actual dictionary.\n",
    "# However, to avoid confusion, let’s call it a glossary.\n",
    "# • Think of five programming words you’ve learned about in the previous\n",
    "# chapters. Use these words as the keys in your glossary, and store their\n",
    "# meanings as values.\n",
    "# • Print each word and its meaning as neatly formatted output. You might\n",
    "# print the word followed by a colon and then its meaning, or print the word\n",
    "# on one line and then print its meaning indented on a second line. Use the\n",
    "# newline character (\\n) to insert a blank line between each word-meaning\n",
    "# pair in your output."
   ]
  },
  {
   "cell_type": "code",
   "execution_count": 13,
   "metadata": {},
   "outputs": [
    {
     "output_type": "stream",
     "name": "stdout",
     "text": [
      "str:-\nIts use to conver int to string\n\nsplit:-\nIts use to split the string\n\nlen:-\nIts return the lengh of the giving input\n\n"
     ]
    }
   ],
   "source": [
    "#6-3\n",
    "python_methods={\"str\":\"Its use to conver int to string\",\"split\":\"Its use to split the string\",\"len\":\"Its return the lengh of the giving input\"}\n",
    "for key,value in python_methods.items():\n",
    "    print(key+\":-\\n\"+value+\"\\n\")"
   ]
  },
  {
   "cell_type": "code",
   "execution_count": 17,
   "metadata": {},
   "outputs": [
    {
     "output_type": "stream",
     "name": "stdout",
     "text": [
      "Jen\nErin, please take our poll!\nSarah\n Hi Sarah, I see your favorite language is C!\nErin, please take our poll!\nEdward\nErin, please take our poll!\nPhil\n Hi Phil, I see your favorite language is Python!\nErin, please take our poll!\n"
     ]
    }
   ],
   "source": [
    "favorite_languages = {\n",
    "'jen': 'python',\n",
    "'sarah': 'c',\n",
    "'edward': 'ruby',\n",
    "'phil': 'python',\n",
    "}\n",
    "friends = ['phil', 'sarah']\n",
    "for name in favorite_languages.keys():\n",
    "    print(name.title())\n",
    "    if name in friends:\n",
    "            print(\" Hi \" + name.title() + \", I see your favorite language is \" +favorite_languages[name].title() + \"!\")\n",
    "    if 'erin' not in favorite_languages.keys():\n",
    "        \n",
    "        print(\"Erin, please take our poll!\")        "
   ]
  },
  {
   "cell_type": "code",
   "execution_count": 19,
   "metadata": {},
   "outputs": [
    {
     "output_type": "stream",
     "name": "stdout",
     "text": [
      "jen\nsarah\nedward\nphil\n.............\npython\nc\nruby\npython\n"
     ]
    }
   ],
   "source": [
    "favorite_languages = {\n",
    "'jen': 'python',\n",
    "'sarah': 'c',\n",
    "'edward': 'ruby',\n",
    "'phil': 'python',\n",
    "}\n",
    "for only_key in favorite_languages.keys():\n",
    "    print(only_key)\n",
    "print(\".............\")\n",
    "for only_value in favorite_languages.values():\n",
    "    print(only_value)    "
   ]
  },
  {
   "cell_type": "code",
   "execution_count": null,
   "metadata": {},
   "outputs": [],
   "source": [
    "# 6-4. Glossary 2: Now that you know how to loop through a dictionary, clean\n",
    "# up the code from Exercise 6-3 (page 102) by replacing your series of print\n",
    "# statements with a loop that runs through the dictionary’s keys and values.\n",
    "# When you’re sure that your loop works, add five more Python terms to your\n",
    "# glossary. When you run your program again, these new words and meanings\n",
    "# should automatically be included in the output."
   ]
  },
  {
   "cell_type": "code",
   "execution_count": 23,
   "metadata": {},
   "outputs": [
    {
     "output_type": "stream",
     "name": "stdout",
     "text": [
      "('str', 'Its use to conver int to string')\n('split', 'Its use to split the string')\n('len', 'Its return the lengh of the giving input')\n('count', 'Its use to count the word or anything in your given input')\n"
     ]
    }
   ],
   "source": [
    "python_methods={\"str\":\"Its use to conver int to string\",\"split\":\"Its use to split the string\",\"len\":\"Its return the lengh of the giving input\",\"count\":\"Its use to count the word or anything in your given input\"}\n",
    "for data in python_methods.items():\n",
    "    print(data)\n"
   ]
  },
  {
   "cell_type": "code",
   "execution_count": null,
   "metadata": {},
   "outputs": [],
   "source": [
    "# 6-5. Rivers: Make a dictionary containing three major rivers and the country\n",
    "# each river runs through. One key-value pair might be 'nile': 'egypt'.\n",
    "# • Use a loop to print a sentence about each river, such as The Nile runs\n",
    "# through Egypt.\n",
    "# • Use a loop to print the name of each river included in the dictionary.\n",
    "# • Use a loop to print the name of each country included in the dictionary."
   ]
  },
  {
   "cell_type": "code",
   "execution_count": 29,
   "metadata": {},
   "outputs": [
    {
     "output_type": "stream",
     "name": "stdout",
     "text": [
      "Rever_A run through in Country_A\nRever_B run through in Country_B\nRever_C run through in Country_C\nRivers Name ...... Rever_A\nRivers Name ...... Rever_B\nRivers Name ...... Rever_C\nCountry Name.....Country_A\nCountry Name.....Country_B\nCountry Name.....Country_C\n"
     ]
    }
   ],
   "source": [
    "#6-5\n",
    "River_Dic={\"Rever_A\":\"Country_A\",\"Rever_B\":\"Country_B\",\"Rever_C\":\"Country_C\"}\n",
    "for River,Country in River_Dic.items():\n",
    "    print(River +\" run through in \"+Country)\n",
    "for River in River_Dic.keys():\n",
    "    print(\"Rivers Name ...... \" +River)\n",
    "for Country in River_Dic.values():\n",
    "    print(\"Country Name.....\"+Country)        "
   ]
  },
  {
   "cell_type": "code",
   "execution_count": null,
   "metadata": {},
   "outputs": [],
   "source": [
    "# 6-6. Polling: Use the code in favorite_languages.py (page 104).\n",
    "# • Make a list of people who should take the favorite languages poll. Include\n",
    "# some names that are already in the dictionary and some that are not.\n",
    "# • Loop through the list of people who should take the poll. If they have\n",
    "# already taken the poll, print a message thanking them for responding.\n",
    "# If they have not yet taken the poll, print a message inviting them to take\n",
    "# the poll."
   ]
  },
  {
   "cell_type": "code",
   "execution_count": 30,
   "metadata": {},
   "outputs": [
    {
     "output_type": "stream",
     "name": "stdout",
     "text": [
      "You ordered a thick-crust pizza with the following toppings:\n\tmushrooms\n\textra cheese\n"
     ]
    }
   ],
   "source": [
    "# list in dictionayr\n",
    "pizza = {\n",
    "'crust': 'thick',\n",
    "'toppings': ['mushrooms', 'extra cheese'],}\n",
    "# Summarize the order.\n",
    "print(\"You ordered a \" + pizza['crust'] + \"-crust pizza \" +\"with the following toppings:\")\n",
    "for topping in pizza['toppings']:\n",
    "    print(\"\\t\" + topping)\n"
   ]
  },
  {
   "cell_type": "code",
   "execution_count": 31,
   "metadata": {},
   "outputs": [
    {
     "output_type": "stream",
     "name": "stdout",
     "text": [
      "\nJen's favorite languages are:\n\tPython\n\tRuby\n\nSarah's favorite languages are:\n\tC\n\nEdward's favorite languages are:\n\tRuby\n\tGo\n\nPhil's favorite languages are:\n\tPython\n\tHaskell\n"
     ]
    }
   ],
   "source": [
    "favorite_languages = {\n",
    "'jen': ['python', 'ruby'],\n",
    "'sarah': ['c'],\n",
    "'edward': ['ruby', 'go'],\n",
    "'phil': ['python', 'haskell'],\n",
    "}\n",
    "for name, languages in favorite_languages.items():\n",
    "    print(\"\\n\" + name.title() + \"'s favorite languages are:\")\n",
    "    for language in languages:\n",
    "        print(\"\\t\" + language.title())"
   ]
  },
  {
   "cell_type": "code",
   "execution_count": null,
   "metadata": {},
   "outputs": [],
   "source": [
    "# 6-7. People: Start with the program you wrote for Exercise 6-1 (page 102).\n",
    "# Make two new dictionaries representing different people, and store all three\n",
    "# dictionaries in a list called people. Loop through your list of people. As you\n",
    "# loop through the list, print everything you know about each person."
   ]
  },
  {
   "cell_type": "code",
   "execution_count": 36,
   "metadata": {},
   "outputs": [
    {
     "output_type": "stream",
     "name": "stdout",
     "text": [
      "Person Detail\nFirstName......Nabeel\nLastName......Anwar\nAge......22\nCity......Karachi\n \nPerson Detail\nFirstName......Ali\nLastName......Xyz\nAge......20\nCity......Karachi\n \nPerson Detail\nFirstName......Khan\nLastName......Abc\nAge......23\nCity......Karachi\n \n"
     ]
    }
   ],
   "source": [
    "#6-7\n",
    "person_dic1={\"FirstName\":\"Nabeel\",\"LastName\":\"Anwar\",\"Age\":22,\"City\":\"Karachi\"}\n",
    "person_dic2={\"FirstName\":\"Ali\",\"LastName\":\"Xyz\",\"Age\":20,\"City\":\"Karachi\"}\n",
    "person_dic3={\"FirstName\":\"Khan\",\"LastName\":\"Abc\",\"Age\":23,\"City\":\"Karachi\"}\n",
    "peoples=[person_dic1,person_dic2,person_dic3]\n",
    "for people in peoples:\n",
    "    print(\"Person Detail\")\n",
    "    for key, value in people.items():\n",
    "        print(key+\"......\"+str(value))\n",
    "    print(\" \")    \n"
   ]
  },
  {
   "cell_type": "code",
   "execution_count": null,
   "metadata": {},
   "outputs": [],
   "source": [
    "# 6-8. Pets: Make several dictionaries, where the name of each dictionary is the\n",
    "# name of a pet. In each dictionary, include the kind of animal and the owner’s\n",
    "# name. Store these dictionaries in a list called pets. Next, loop through your list\n",
    "# and as you do print everything you know about each pet.\n"
   ]
  },
  {
   "cell_type": "code",
   "execution_count": 45,
   "metadata": {},
   "outputs": [
    {
     "output_type": "stream",
     "name": "stdout",
     "text": [
      "This Cat is own by Mir X and he love it\nThis Dog is own by Mir X and he love it\nThis Cow is own by Mir X and he love it\n"
     ]
    }
   ],
   "source": [
    "#6-7\n",
    "pet1={\"Name\":\"Cat\",\"Detail\":\"is own by Mir X\"}\n",
    "pet2={\"Name\":\"Dog\",\"Detail\":\"is own by Mir X\"}\n",
    "pet3={\"Name\":\"Cow\",\"Detail\":\"is own by Mir X\"}\n",
    "pet_list=[pet1,pet2,pet3]\n",
    "for pet in pet_list:\n",
    "    # print(pet[\"Name\"]+pet[\"Detail\"])\n",
    "    print(\"This {0} {1} and he love it\".format(pet[\"Name\"],pet[\"Detail\"]))"
   ]
  },
  {
   "cell_type": "code",
   "execution_count": null,
   "metadata": {},
   "outputs": [],
   "source": [
    "# 6-9. Favorite Places: Make a dictionary called favorite_places. Think of three\n",
    "# names to use as keys in the dictionary, and store one to three favorite places\n",
    "# for each person. To make this exercise a bit more interesting, ask some friends\n",
    "# to name a few of their favorite places. Loop through the dictionary, and print\n",
    "# each person’s name and their favorite places.\n"
   ]
  },
  {
   "cell_type": "code",
   "execution_count": 49,
   "metadata": {},
   "outputs": [
    {
     "output_type": "stream",
     "name": "stdout",
     "text": [
      "Person name is ------Ali\nFVt Place is...... Khi\nFVt Place is...... Lhr\n \nPerson name is ------Anus\nFVt Place is...... KPK\nFVt Place is...... Pindi\n \nPerson name is ------Nabeel\nFVt Place is...... Sawat\nFVt Place is...... Marri\nFVt Place is...... Isl\n \n"
     ]
    }
   ],
   "source": [
    "#6-9\n",
    "favorite_places={\"Ali\":[\"Khi\",\"Lhr\"],\"Anus\":[\"KPK\",\"Pindi\"],\"Nabeel\":[\"Sawat\",\"Marri\",\"Isl\"]}\n",
    "for name,places in favorite_places.items():\n",
    "    print(\"Person name is ------\"+name)\n",
    "    for place in places:\n",
    "        print(\"FVt Place is...... \" +place)\n",
    "    print(\n",
    "        \" \"\n",
    "    )    "
   ]
  },
  {
   "cell_type": "code",
   "execution_count": null,
   "metadata": {},
   "outputs": [],
   "source": [
    "# 6-10. Favorite Numbers: Modify your program from Exercise 6-2 (page 102) so\n",
    "# each person can have more than one favorite number. Then print each person’s\n",
    "# name along with their favorite numbers."
   ]
  },
  {
   "cell_type": "code",
   "execution_count": 51,
   "metadata": {},
   "outputs": [
    {
     "output_type": "stream",
     "name": "stdout",
     "text": [
      "Amir [1, 3, 4]\nAsad [4, 6, 7]\n"
     ]
    }
   ],
   "source": [
    "#6-10\n",
    "fvt_num={\"Amir\":[1,3,4],\"Asad\":[4,6,7]}\n",
    "for key,value in fvt_num.items():\n",
    "    print(key+\" \"+ str(value))"
   ]
  },
  {
   "cell_type": "code",
   "execution_count": null,
   "metadata": {},
   "outputs": [],
   "source": [
    "# 6-11. Cities: Make a dictionary called cities. Use the names of three cities as\n",
    "# keys in your dictionary. Create a dictionary of information about each city and\n",
    "# include the country that the city is in, its approximate population, and one fact\n",
    "# about that city. The keys for each city’s dictionary should be something like\n",
    "# country, population, and fact. Print the name of each city and all of the information\n",
    "# you have stored about it."
   ]
  },
  {
   "cell_type": "code",
   "execution_count": 52,
   "metadata": {},
   "outputs": [
    {
     "output_type": "stream",
     "name": "stdout",
     "text": [
      "City Name is khi\nPopulation 2000\nPlace SeaView\nCity Name is Isl\nPopulation 1500\nPlace Mosq\nCity Name is Kpk\nPopulation 1000\nPlace Hills\n"
     ]
    }
   ],
   "source": [
    "#6-11\n",
    "cities={\"khi\":{\"Population\":2000,\"Place\":\"SeaView\"},\"Isl\":{\"Population\":1500,\"Place\":\"Mosq\"},\"Kpk\":{\"Population\":1000,\"Place\":\"Hills\"}}\n",
    "for name,detail in cities.items():\n",
    "    print(\"City Name is \"+name)\n",
    "    for key, value in detail.items():\n",
    "        print(key+\" \"+str(value))"
   ]
  },
  {
   "cell_type": "code",
   "execution_count": null,
   "metadata": {},
   "outputs": [],
   "source": [
    "#chapter #07\n",
    "#user input and while loop"
   ]
  },
  {
   "cell_type": "code",
   "execution_count": 1,
   "metadata": {},
   "outputs": [
    {
     "output_type": "stream",
     "name": "stdout",
     "text": [
      "We can Found this BMW car for you on rental base\n"
     ]
    }
   ],
   "source": [
    "\n",
    "# 7-1. Rental Car: Write a program that asks the user what kind of rental car they\n",
    "# would like. Print a message about that car, such as “Let me see if I can find you\n",
    "# a Subaru.”\n",
    "\n",
    "car_choise=input(\"Enter Your rental car name\")\n",
    "print(f\"We can Found this {car_choise} car for you on rental base\")"
   ]
  },
  {
   "cell_type": "code",
   "execution_count": 3,
   "metadata": {},
   "outputs": [
    {
     "output_type": "stream",
     "name": "stdout",
     "text": [
      "You will be wate for a table\n"
     ]
    }
   ],
   "source": [
    "# 7-2. Restaurant Seating: Write a program that asks the user how many people\n",
    "# are in their dinner group. If the answer is more than eight, print a message saying\n",
    "# they’ll have to wait for a table. Otherwise, report that their table is ready.\n",
    "seat_requide=int(input(\"How many seat you want to reserved?\"))\n",
    "if seat_requide >8:\n",
    "    print(\"You will be wait for a table\")\n",
    "else:\n",
    "    print(\"Your table is ready enjoy your food\")    "
   ]
  },
  {
   "cell_type": "code",
   "execution_count": 6,
   "metadata": {},
   "outputs": [
    {
     "output_type": "stream",
     "name": "stdout",
     "text": [
      "this is the multiple of 10\n"
     ]
    }
   ],
   "source": [
    "# 7-3. Multiples of Ten: Ask the user for a number, and then report whether the\n",
    "# number is a multiple of 10 or not.\n",
    "number=int(input(\"Enter a number\"))\n",
    "if number%10 ==0:\n",
    "    print(\"this is the multiple of 10\")\n",
    "else:\n",
    "    print(\"this is not the multiple of 10\")    "
   ]
  },
  {
   "cell_type": "code",
   "execution_count": null,
   "metadata": {},
   "outputs": [],
   "source": [
    "# 7-4. Pizza Toppings: Write a loop that prompts the user to enter a series of\n",
    "# pizza toppings until they enter a 'quit' value. As they enter each topping,\n",
    "# print a message saying you’ll add that topping to their pizza."
   ]
  },
  {
   "cell_type": "code",
   "execution_count": 8,
   "metadata": {},
   "outputs": [
    {
     "output_type": "stream",
     "name": "stdout",
     "text": [
      "You will add Mashroom in your pizza\nYou will add Olive in your pizza\n"
     ]
    }
   ],
   "source": [
    "#7-4\n",
    "condition=True\n",
    "Topping=[]\n",
    "while condition:\n",
    "    user_input=input(\"Enter pizza topping detail or write quite for exit\")\n",
    "    if user_input == \"quite\":\n",
    "        condition= False\n",
    "    else:\n",
    "        Topping.append(user_input)\n",
    "\n",
    "for toping in Topping:\n",
    "    print(f\"You will add {toping} in your pizza\")\n"
   ]
  },
  {
   "cell_type": "code",
   "execution_count": null,
   "metadata": {},
   "outputs": [],
   "source": [
    "# 7-5. Movie Tickets: A movie theater charges different ticket prices depending on\n",
    "# a person’s age. If a person is under the age of 3, the ticket is free; if they are\n",
    "# between 3 and 12, the ticket is $10; and if they are over age 12, the ticket is\n",
    "# $15. Write a loop in which you ask users their age, and then tell them the cost\n",
    "# of their movie ticket."
   ]
  },
  {
   "cell_type": "code",
   "execution_count": 11,
   "metadata": {},
   "outputs": [
    {
     "output_type": "stream",
     "name": "stdout",
     "text": [
      "Your ticket is free\n",
      "Your ticket is $10\n",
      "Your ticket price is $15\n",
      "Your ticket is free\n"
     ]
    }
   ],
   "source": [
    "#7-5\n",
    "condition=True\n",
    "while condition:\n",
    "    age=int(input(\"Enter your age to get the ticket price\"))\n",
    "    if age==0:\n",
    "        condition=False\n",
    "\n",
    "    if age<=3:\n",
    "        print(\"Your ticket is free\")\n",
    "    elif age>3 and age<=12:\n",
    "        print(\"Your ticket is $10\")\n",
    "    else:\n",
    "        print(\"Your ticket price is $15\")         "
   ]
  },
  {
   "cell_type": "code",
   "execution_count": null,
   "metadata": {},
   "outputs": [],
   "source": [
    "# 7-6. Three Exits: Write different versions of either Exercise 7-4 or Exercise 7-5\n",
    "# that do each of the following at least once:\n",
    "# • Use a conditional test in the while statement to stop the loop.\n",
    "# • Use an active variable to control how long the loop runs.\n",
    "# • Use a break statement to exit the loop when the user enters a 'quit' value."
   ]
  },
  {
   "cell_type": "code",
   "execution_count": 12,
   "metadata": {},
   "outputs": [],
   "source": [
    "condition=5\n",
    "while condition:\n",
    "    age=int(input(\"Enter your age to get the ticket price\"))\n",
    "    if age ==-1:\n",
    "        break\n",
    "    condition=condition-1\n",
    "    if age==0:\n",
    "        condition=0\n",
    "\n",
    "\n",
    "    if age<=3:\n",
    "        print(\"Your ticket is free\")\n",
    "    elif age>3 and age<=12:\n",
    "        print(\"Your ticket is $10\")\n",
    "    else:\n",
    "        print(\"Your ticket price is $15\")"
   ]
  },
  {
   "cell_type": "code",
   "execution_count": null,
   "metadata": {},
   "outputs": [],
   "source": [
    "# 7-7. Infinity: Write a loop that never ends, and run it. (To end the loop, press\n",
    "# ctrl-C or close the window displaying the output.)\n",
    "  num=0\n",
    "while True:\n",
    "    print(num)\n",
    "    num+=1"
   ]
  },
  {
   "cell_type": "code",
   "execution_count": null,
   "metadata": {},
   "outputs": [],
   "source": [
    "# 7-8. Deli: Make a list called sandwich_orders and fill it with the names of various\n",
    "# sandwiches. Then make an empty list called finished_sandwiches. Loop\n",
    "# through the list of sandwich orders and print a message for each order, such\n",
    "# as I made your tuna sandwich. As each sandwich is made, move it to the list\n",
    "# of finished sandwiches. After all the sandwiches have been made, print a\n",
    "# message listing each sandwich that was made."
   ]
  },
  {
   "cell_type": "code",
   "execution_count": 15,
   "metadata": {},
   "outputs": [
    {
     "output_type": "stream",
     "name": "stdout",
     "text": [
      "I made your chickensandwitch sandwitch\nI made your Beefsandwitch sandwitch\nI made your Eggsandwitch sandwitch\nI made your cheezsandwitch sandwitch\n['chickensandwitch', 'Beefsandwitch', 'Eggsandwitch', 'cheezsandwitch'] All are made for you\n"
     ]
    }
   ],
   "source": [
    "sandwitch_list=[\"chickensandwitch\",\"Beefsandwitch\",\"Eggsandwitch\",\"cheezsandwitch\"]\n",
    "finished_sanwitch=[]\n",
    "for sandwitch in sandwitch_list:\n",
    "    print(f\"I made your {sandwitch} sandwitch\")\n",
    "    finished_sanwitch.append(sandwitch)\n",
    "print(str(finished_sanwitch)+\" \"+\"All are made for you\")    "
   ]
  },
  {
   "cell_type": "code",
   "execution_count": null,
   "metadata": {},
   "outputs": [],
   "source": [
    "# 7-9. No Pastrami: Using the list sandwich_orders from Exercise 7-8, make sure\n",
    "# the sandwich 'pastrami' appears in the list at least three times. Add code\n",
    "# near the beginning of your program to print a message saying the deli has\n",
    "# run out of pastrami, and then use a while loop to remove all occurrences of\n",
    "# 'pastrami' from sandwich_orders. Make sure no pastrami sandwiches end up\n",
    "# in finished_sandwiches."
   ]
  },
  {
   "cell_type": "code",
   "execution_count": 29,
   "metadata": {},
   "outputs": [
    {
     "output_type": "stream",
     "name": "stdout",
     "text": [
      "Deal ha outof pastrami sandwitch\nAvialable Sanwitch list ['chickensandwitch', '', 'Beefsandwitch', 'Eggsandwitch', '', 'cheezsandwitch', '']\n"
     ]
    }
   ],
   "source": [
    "sandwitch_list=[\"chickensandwitch\",\"pastrami\",\"Beefsandwitch\",\"Eggsandwitch\",\"pastrami\",\"cheezsandwitch\",\"pastrami\"]\n",
    "print(\"Deal ha outof pastrami sandwitch\")\n",
    "for x in range(len(sandwitch_list)):\n",
    "\n",
    "    # print(sandwitch_list[x])\n",
    "    if sandwitch_list[x] == 'pastrami':\n",
    "        sandwitch_list[x]=''\n",
    "        \n",
    "print(\"Avialable Sanwitch list \"+str(sandwitch_list))        "
   ]
  },
  {
   "cell_type": "code",
   "execution_count": null,
   "metadata": {},
   "outputs": [],
   "source": [
    "# 7-10. Dream Vacation: Write a program that polls users about their dream\n",
    "# vacation. Write a prompt similar to If you could visit one place in the world,\n",
    "# where would you go? Include a block of code that prints the results of the poll."
   ]
  },
  {
   "cell_type": "code",
   "execution_count": 33,
   "metadata": {},
   "outputs": [
    {
     "output_type": "stream",
     "name": "stdout",
     "text": [
      "Your Drem location is khi\n",
      "Your Drem location is q\n"
     ]
    }
   ],
   "source": [
    "#7-10\n",
    "condition=1\n",
    "while condition:\n",
    "    \n",
    "    Dream_vications=input(\"Enter you dream vication place\")\n",
    "    print(\"Your Drem location is \"+str(Dream_vications))\n",
    "    if Dream_vications=='q':\n",
    "        condition=0\n",
    "    "
   ]
  },
  {
   "cell_type": "code",
   "execution_count": null,
   "metadata": {},
   "outputs": [],
   "source": [
    "#chapter#08 Funtions\n"
   ]
  },
  {
   "cell_type": "code",
   "execution_count": null,
   "metadata": {},
   "outputs": [],
   "source": [
    "# 8-1. Message: Write a function called display_message() that prints one sentence\n",
    "# telling everyone what you are learning about in this chapter. Call the\n",
    "# function, and make sure the message displays correctly.\n",
    "# 8-2. Favorite Book: Write a function called favorite_book() that accepts one\n",
    "# parameter, title. The function should print a message, such as One of my\n",
    "# favorite books is Alice in Wonderland. Call the function, making sure to\n",
    "# include a book title as an argument in the function call."
   ]
  },
  {
   "cell_type": "code",
   "execution_count": 34,
   "metadata": {},
   "outputs": [
    {
     "output_type": "stream",
     "name": "stdout",
     "text": [
      "My name is nabeel and i am SMIT stidens\nmy Fvt book is Python\n"
     ]
    }
   ],
   "source": [
    "#8-1\n",
    "def mydetail():\n",
    "    print(\"My name is nabeel and i am SMIT stidens\")\n",
    "#8-2    \n",
    "def Fvt_Book(title):\n",
    "    print(\"my Fvt book is \"+title.title())\n",
    "mydetail()\n",
    "Fvt_Book(\"python\")        "
   ]
  },
  {
   "cell_type": "code",
   "execution_count": null,
   "metadata": {},
   "outputs": [],
   "source": [
    "# 8-3. T-Shirt: Write a function called make_shirt() that accepts a size and the\n",
    "# text of a message that should be printed on the shirt. The function should print\n",
    "# a sentence summarizing the size of the shirt and the message printed on it.\n",
    "# Call the function once using positional arguments to make a shirt. Call the\n",
    "# function a second time using keyword arguments."
   ]
  },
  {
   "cell_type": "code",
   "execution_count": 35,
   "metadata": {},
   "outputs": [
    {
     "output_type": "stream",
     "name": "stdout",
     "text": [
      "My short size is 22\n"
     ]
    }
   ],
   "source": [
    "#8-3\n",
    "def make_shirt(text,size=0):\n",
    "   print(text+\" \"+str(size))\n",
    "make_shirt(\"My short size is\",size=22)      \n"
   ]
  },
  {
   "cell_type": "code",
   "execution_count": 36,
   "metadata": {},
   "outputs": [],
   "source": [
    "# 8-4. Large Shirts: Modify the make_shirt() function so that shirts are large\n",
    "# by default with a message that reads I love Python. Make a large shirt and a\n",
    "# medium shirt with the default message, and a shirt of any size with a different\n",
    "# message."
   ]
  },
  {
   "cell_type": "code",
   "execution_count": 39,
   "metadata": {},
   "outputs": [
    {
     "output_type": "stream",
     "name": "stdout",
     "text": [
      "My short size is 22\nYour short is to large\n"
     ]
    }
   ],
   "source": [
    "def make_shirt(text,size=0):\n",
    "   if text ==\"i love python\":\n",
    "       print(\"Your short is to large\")\n",
    "   else:\n",
    "       print(text+\" \"+str(size)) \n",
    "make_shirt(\"My short size is\",size=22)\n",
    "make_shirt(\"i love python\",size=22)       "
   ]
  },
  {
   "cell_type": "code",
   "execution_count": null,
   "metadata": {},
   "outputs": [],
   "source": [
    "# 8-5. Cities: Write a function called describe_city() that accepts the name of\n",
    "# a city and its country. The function should print a simple sentence, such as\n",
    "# Reykjavik is in Iceland. Give the parameter for the country a default value.\n",
    "# Call your function for three different cities, at least one of which is not in the\n",
    "# default country."
   ]
  },
  {
   "cell_type": "code",
   "execution_count": 43,
   "metadata": {},
   "outputs": [
    {
     "output_type": "stream",
     "name": "stdout",
     "text": [
      "Karachi present in Pakistan\nAbc present in  .....\n"
     ]
    }
   ],
   "source": [
    "def description_city(city,country=' .....'):\n",
    "    print(city+\" present in \"+country)\n",
    "description_city(\"Karachi\",\"Pakistan\")\n",
    "description_city(\"Abc\")    "
   ]
  },
  {
   "cell_type": "code",
   "execution_count": null,
   "metadata": {},
   "outputs": [],
   "source": [
    "# 8-6. City Names: Write a function called city_country() that takes in the name\n",
    "# of a city and its country. The function should return a string formatted like this:\n",
    "# \"Santiago, Chile\"\n",
    "# Call your function with at least three city-country pairs, and print the value\n",
    "# that’s returned."
   ]
  },
  {
   "cell_type": "code",
   "execution_count": 50,
   "metadata": {},
   "outputs": [
    {
     "output_type": "stream",
     "name": "stdout",
     "text": [
      " \"khi, Pak\"\n"
     ]
    }
   ],
   "source": [
    "def city_country(city,country):\n",
    "    print(\" \\\"{0}, {1}\\\"\".format(city,country))\n",
    "city_country(\"khi\",\"Pak\")    \n",
    "\n"
   ]
  },
  {
   "cell_type": "code",
   "execution_count": null,
   "metadata": {},
   "outputs": [],
   "source": [
    "# 8-7. Album: Write a function called make_album() that builds a dictionary\n",
    "# describing a music album. The function should take in an artist name and an\n",
    "# album title, and it should return a dictionary containing these two pieces of\n",
    "# information. Use the function to make three dictionaries representing different\n",
    "# albums. Print each return value to show that the dictionaries are storing the\n",
    "# album information correctly.\n",
    "# Add an optional parameter to make_album() that allows you to store the\n",
    "# number of tracks on an album. If the calling line includes a value for the number\n",
    "# of tracks, add that value to the album’s dictionary. Make at least one new\n",
    "# function call that includes the number of tracks on an album."
   ]
  },
  {
   "cell_type": "code",
   "execution_count": 8,
   "metadata": {},
   "outputs": [
    {
     "output_type": "stream",
     "name": "stdout",
     "text": [
      "{'Atif': 'Wo lamhay', 0: 'no track found'}\n{'Alizafar': 'Bhai hazir hay', 0: 'no track found'}\n{'Argeet': 'tum ho', 2: 2}\n[{'Atif': 'Wo lamhay', 0: 'no track found'}, {'Alizafar': 'Bhai hazir hay', 0: 'no track found'}, {'Argeet': 'tum ho', 2: 2}]\n"
     ]
    }
   ],
   "source": [
    "#8-7\n",
    "\n",
    "albulm_list=[]\n",
    "def make_album(artistname,title,track=0):\n",
    "    album_dic={}\n",
    "    album_dic[artistname]=title\n",
    "    album_dic[track]=number_of_track(track)\n",
    "    albulm_list.append(album_dic)\n",
    "    return album_dic\n",
    "def number_of_track(num=0):\n",
    "    if num !=0:\n",
    "        return num\n",
    "    else:\n",
    "        return \"no track found\"    \n",
    "\n",
    "    \n",
    "\n",
    "print(make_album(\"Atif\",\"Wo lamhay\"))    \n",
    "print(make_album(\"Alizafar\",\"Bhai hazir hay\")) \n",
    "print(make_album(\"Argeet\",\"tum ho\",2)) \n",
    "print(albulm_list)\n"
   ]
  },
  {
   "cell_type": "code",
   "execution_count": null,
   "metadata": {},
   "outputs": [],
   "source": [
    "# 8-8. User Albums: Start with your program from Exercise 8-7. Write a while\n",
    "# loop that allows users to enter an album’s artist and title. Once you have that\n",
    "# information, call make_album() with the user’s input and print the dictionary\n",
    "# that’s created. Be sure to include a quit value in the while loop."
   ]
  },
  {
   "cell_type": "code",
   "execution_count": null,
   "metadata": {},
   "outputs": [],
   "source": [
    "albulm_list=[]\n",
    "def make_album(artistname,title,track=0):\n",
    "    album_dic={}\n",
    "    album_dic[artistname]=title\n",
    "    album_dic[track]=number_of_track(track)\n",
    "    albulm_list.append(album_dic)\n",
    "    return album_dic\n",
    "def number_of_track(num=0):\n",
    "    if num !=0:\n",
    "        return num\n",
    "    else:\n",
    "        return \"no track found\"\n",
    "condition=True\n",
    "while condition:\n",
    "    ArtistName=input(\"Enter Artist Name or Q to exit\")\n",
    "    if  ArtistName !=\"q\" :\n",
    "\n",
    "        TItle=input(\"Enter title name\")\n",
    "        Track=input(\"Enter track\")\n",
    "        result=make_album(ArtistName,TItle,Track)\n",
    "    else:\n",
    "        condition=False    \n",
    "    print(result)\n",
    "\n",
    "\n"
   ]
  },
  {
   "cell_type": "code",
   "execution_count": null,
   "metadata": {},
   "outputs": [],
   "source": []
  }
 ]
}