{
 "metadata": {
  "language_info": {
   "codemirror_mode": {
    "name": "ipython",
    "version": 3
   },
   "file_extension": ".py",
   "mimetype": "text/x-python",
   "name": "python",
   "nbconvert_exporter": "python",
   "pygments_lexer": "ipython3",
   "version": "3.8.3-final"
  },
  "orig_nbformat": 2,
  "kernelspec": {
   "name": "python3",
   "display_name": "Python 3.8.3 32-bit",
   "metadata": {
    "interpreter": {
     "hash": "d1f6cae6e3d0a4014cadff94331d4302bf977cc3cd307ab5cfb1be81cf22412d"
    }
   }
  }
 },
 "nbformat": 4,
 "nbformat_minor": 2,
 "cells": [
  {
   "cell_type": "code",
   "execution_count": 40,
   "metadata": {},
   "outputs": [
    {
     "output_type": "stream",
     "name": "stdout",
     "text": [
      "5.166666666666667\n"
     ]
    }
   ],
   "source": [
    "#Mean Using only python \n",
    "def mean(data_set):\n",
    "    sum=0\n",
    "    data_set=sorted(data_set)\n",
    "    for x in data_set:\n",
    "        sum=sum+x\n",
    "    return sum/len(data_set)    \n",
    "print(mean([2,3,5,7,9,5]))\n",
    "\n"
   ]
  },
  {
   "cell_type": "code",
   "execution_count": 41,
   "metadata": {},
   "outputs": [
    {
     "output_type": "stream",
     "name": "stdout",
     "text": [
      "5.166666666666667\n"
     ]
    }
   ],
   "source": [
    "# mean usning python statistic module\n",
    "# we can also use pandas for calculating mean,median and mode\n",
    "\n",
    "import statistics as stats\n",
    "data_set=[2,3,5,7,9,5]\n",
    "mean=stats.mean(sorted(data_set))\n",
    "print(mean)"
   ]
  },
  {
   "cell_type": "code",
   "execution_count": 122,
   "metadata": {},
   "outputs": [
    {
     "output_type": "stream",
     "name": "stdout",
     "text": [
      "6.0\n"
     ]
    }
   ],
   "source": [
    "# median using python code\n",
    "def median(data_set):\n",
    "    data_set=sorted(data_set)\n",
    "    # print(data_set)\n",
    "    if len(data_set)%2 !=0:\n",
    "        return data_set[(len(data_set)//2)]\n",
    "    else:\n",
    "        # print(data_set[(len(data_set)//2)-1])\n",
    "        # print(data[(len(data_set)//2)])\n",
    "        # a=data_set[(len(data_set)//2)-1]+data[(len(data_set)//2)]\n",
    "        # print(a/2)\n",
    "        return  (data_set[(len(data_set)//2)-1]+data[(len(data_set)//2)])/2   \n",
    "\n",
    "print(median([2,3,5,7,9,9]))\n",
    "\n"
   ]
  },
  {
   "cell_type": "code",
   "execution_count": 47,
   "metadata": {},
   "outputs": [
    {
     "output_type": "stream",
     "name": "stdout",
     "text": [
      "5.0\n"
     ]
    }
   ],
   "source": [
    "# median using statistic module\n",
    "import statistics as stats\n",
    "data_set=[2,3,5,7,9,5]\n",
    "print(stats.median(data))"
   ]
  },
  {
   "cell_type": "code",
   "execution_count": 44,
   "metadata": {},
   "outputs": [
    {
     "output_type": "stream",
     "name": "stdout",
     "text": [
      "5\n"
     ]
    }
   ],
   "source": [
    "# mode using python\n",
    "def mode(data_set):\n",
    "    data=sorted(data_set)\n",
    "    return max(set(data),key=data.count)\n",
    "    \n",
    "print(mode([2,3,5,7,9,5]))    "
   ]
  },
  {
   "cell_type": "code",
   "execution_count": 46,
   "metadata": {},
   "outputs": [
    {
     "output_type": "stream",
     "name": "stdout",
     "text": [
      "5\n"
     ]
    }
   ],
   "source": [
    "# mode using statistic module\n",
    "import statistics as stats\n",
    "data_set=[2,3,5,7,9,5]\n",
    "print(stats.mode(data_set))"
   ]
  }
 ]
}